{
  "nbformat": 4,
  "nbformat_minor": 0,
  "metadata": {
    "colab": {
      "provenance": [],
      "authorship_tag": "ABX9TyPf2WNPsDzLbFj0HNoUHEF+",
      "include_colab_link": true
    },
    "kernelspec": {
      "name": "python3",
      "display_name": "Python 3"
    },
    "language_info": {
      "name": "python"
    }
  },
  "cells": [
    {
      "cell_type": "markdown",
      "metadata": {
        "id": "view-in-github",
        "colab_type": "text"
      },
      "source": [
        "<a href=\"https://colab.research.google.com/github/AsimKazmi110/Oops-Assignment_6/blob/main/Oops%20Assignment_6.ipynb\" target=\"_parent\"><img src=\"https://colab.research.google.com/assets/colab-badge.svg\" alt=\"Open In Colab\"/></a>"
      ]
    },
    {
      "cell_type": "code",
      "source": [
        "class Student:\n",
        "    def __init__(self, name, marks):\n",
        "        self.name = name\n",
        "        self.marks = marks\n",
        "\n",
        "    def display(self):\n",
        "        print(f\"Name: {self.name}\")\n",
        "        print(f\"Marks: {self.marks}\")\n",
        "\n",
        "# Example usage\n",
        "student1 = Student(\"Asim\", 95)\n",
        "student1.display()\n"
      ],
      "metadata": {
        "colab": {
          "base_uri": "https://localhost:8080/"
        },
        "id": "Sz_cOrCYRIxm",
        "outputId": "838c6163-b68e-4e0d-e9ae-4619bc53c05d"
      },
      "execution_count": null,
      "outputs": [
        {
          "output_type": "stream",
          "name": "stdout",
          "text": [
            "Name: Asim\n",
            "Marks: 95\n"
          ]
        }
      ]
    },
    {
      "cell_type": "code",
      "source": [
        "class Student:\n",
        "    def __init__(self, name, marks):\n",
        "        self.name = name      # Using self to assign name\n",
        "        self.marks = marks    # Using self to assign marks\n",
        "\n",
        "    def display(self):\n",
        "        print(f\"Student Name: {self.name}\")\n",
        "        print(f\"Marks: {self.marks}\")\n",
        "\n",
        "# Example usage:\n",
        "student1 = Student(\"Asim\", 92)\n",
        "student1.display()\n"
      ],
      "metadata": {
        "id": "fjhstiCsRiJN",
        "colab": {
          "base_uri": "https://localhost:8080/"
        },
        "outputId": "96224e34-6b63-4099-e91e-ba0ebee5a5c7"
      },
      "execution_count": 2,
      "outputs": [
        {
          "output_type": "stream",
          "name": "stdout",
          "text": [
            "Student Name: Asim\n",
            "Marks: 92\n"
          ]
        }
      ]
    },
    {
      "cell_type": "code",
      "source": [
        "class Counter:\n",
        "    # Class variable to keep track of object count\n",
        "    object_count = 0\n",
        "\n",
        "    def __init__(self):\n",
        "        # Increment the count when a new object is created\n",
        "        Counter.object_count += 1\n",
        "\n",
        "    @classmethod\n",
        "    def display_count(cls):\n",
        "        print(f\"Number of Counter objects created: {cls.object_count}\")\n",
        "\n",
        "# Example usage\n",
        "c1 = Counter()\n",
        "c2 = Counter()\n",
        "c3 = Counter()\n",
        "\n",
        "Counter.display_count()\n"
      ],
      "metadata": {
        "colab": {
          "base_uri": "https://localhost:8080/"
        },
        "id": "iNLKlCUicpbB",
        "outputId": "5c6189c8-d937-449a-fde4-502455fee600"
      },
      "execution_count": 3,
      "outputs": [
        {
          "output_type": "stream",
          "name": "stdout",
          "text": [
            "Number of Counter objects created: 3\n"
          ]
        }
      ]
    },
    {
      "cell_type": "code",
      "source": [
        "class Car:\n",
        "    def __init__(self, brand):\n",
        "        self.brand = brand  # Public variable\n",
        "\n",
        "    def start(self):        # Public method\n",
        "        print(f\"{self.brand} car is starting...\")\n",
        "\n",
        "# Instantiate the class\n",
        "my_car = Car(\"Toyota\")\n",
        "\n",
        "# Access public variable and method from outside the class\n",
        "print(f\"Brand: {my_car.brand}\")  # Accessing public variable\n",
        "my_car.start()                   # Calling public method\n"
      ],
      "metadata": {
        "colab": {
          "base_uri": "https://localhost:8080/"
        },
        "id": "kKZHQWFxc8Zm",
        "outputId": "27ec45ec-a76c-42db-f034-1d542a122bdb"
      },
      "execution_count": 4,
      "outputs": [
        {
          "output_type": "stream",
          "name": "stdout",
          "text": [
            "Brand: Toyota\n",
            "Toyota car is starting...\n"
          ]
        }
      ]
    },
    {
      "cell_type": "code",
      "source": [
        "class Bank:\n",
        "    # Class variable\n",
        "    bank_name = \"Meezan Bank\"\n",
        "\n",
        "    def __init__(self, account_holder):\n",
        "        self.account_holder = account_holder\n",
        "\n",
        "    @classmethod\n",
        "    def change_bank_name(cls, name):\n",
        "        cls.bank_name = name\n",
        "\n",
        "    def display_info(self):\n",
        "        print(f\"Account Holder: {self.account_holder}\")\n",
        "        print(f\"Bank Name: {Bank.bank_name}\")\n",
        "\n",
        "# Create instances\n",
        "acc1 = Bank(\"Asim\")\n",
        "acc2 = Bank(\"Zain\")\n",
        "\n",
        "# Display initial bank name\n",
        "acc1.display_info()\n",
        "acc2.display_info()\n",
        "\n",
        "# Change bank name using class method\n"
      ],
      "metadata": {
        "colab": {
          "base_uri": "https://localhost:8080/"
        },
        "id": "UoZb2Mw-dGKi",
        "outputId": "6c7b6d5b-4267-49b5-a12b-ab1abfcc5ad0"
      },
      "execution_count": 7,
      "outputs": [
        {
          "output_type": "stream",
          "name": "stdout",
          "text": [
            "Account Holder: Asim\n",
            "Bank Name: Meezan Bank\n",
            "Account Holder: Zain\n",
            "Bank Name: Meezan Bank\n"
          ]
        }
      ]
    },
    {
      "cell_type": "code",
      "source": [
        "class MathUtils:\n",
        "    @staticmethod\n",
        "    def add(a, b):\n",
        "        return a + b\n",
        "\n",
        "# Example usage\n",
        "result = MathUtils.add(5, 7)\n",
        "print(f\"The sum is: {result}\")\n"
      ],
      "metadata": {
        "colab": {
          "base_uri": "https://localhost:8080/"
        },
        "id": "5CabqjlSdovP",
        "outputId": "e714e178-ab59-40a9-b33d-186fb01cb55a"
      },
      "execution_count": 8,
      "outputs": [
        {
          "output_type": "stream",
          "name": "stdout",
          "text": [
            "The sum is: 12\n"
          ]
        }
      ]
    },
    {
      "cell_type": "code",
      "source": [
        "class Logger:\n",
        "    def __init__(self):\n",
        "        print(\"Logger object has been created.\")\n",
        "\n",
        "    def __del__(self):\n",
        "        print(\"Logger object is being destroyed.\")\n",
        "\n",
        "# Example usage\n",
        "def create_logger():\n",
        "    log = Logger()\n",
        "\n",
        "create_logger()\n",
        "\n",
        "# Forcing garbage collection to see __del__ immediately (optional)\n",
        "import gc\n",
        "gc.collect()\n"
      ],
      "metadata": {
        "colab": {
          "base_uri": "https://localhost:8080/"
        },
        "id": "NoJUu01ndqiw",
        "outputId": "f3de71f2-4b78-4c68-bad0-a21448304892"
      },
      "execution_count": 9,
      "outputs": [
        {
          "output_type": "stream",
          "name": "stdout",
          "text": [
            "Logger object has been created.\n",
            "Logger object is being destroyed.\n"
          ]
        },
        {
          "output_type": "execute_result",
          "data": {
            "text/plain": [
              "49"
            ]
          },
          "metadata": {},
          "execution_count": 9
        }
      ]
    },
    {
      "cell_type": "code",
      "source": [
        "class Employee:\n",
        "    def __init__(self, name, salary, ssn):\n",
        "        self.name = name        # Public\n",
        "        self._salary = salary   # Protected (by convention)\n",
        "        self.__ssn = ssn        # Private\n",
        "\n",
        "# Create an object\n",
        "emp = Employee(\"Asim Kazmi\", 50000, \"123-45-6789\")\n",
        "\n",
        "# Access public variable\n",
        "print(\"Public:\", emp.name)\n",
        "\n",
        "# Access protected variable\n",
        "print(\"Protected (accessible, but discouraged):\", emp._salary)\n",
        "\n",
        "# Try accessing private variable\n",
        "try:\n",
        "    print(\"Private:\", emp.__ssn)\n",
        "except AttributeError as e:\n",
        "    print(\"Private: Cannot access directly –\", e)\n",
        "\n",
        "# Access private variable using name mangling\n",
        "print(\"Private (using name mangling):\", emp._Employee__ssn)\n"
      ],
      "metadata": {
        "colab": {
          "base_uri": "https://localhost:8080/"
        },
        "id": "T0vUp48hd0Ae",
        "outputId": "cc2658a3-dd2e-4773-aa46-77eb88cc3cb0"
      },
      "execution_count": 13,
      "outputs": [
        {
          "output_type": "stream",
          "name": "stdout",
          "text": [
            "Public: Asim Kazmi\n",
            "Protected (accessible, but discouraged): 50000\n",
            "Private: Cannot access directly – 'Employee' object has no attribute '__ssn'\n",
            "Private (using name mangling): 123-45-6789\n"
          ]
        }
      ]
    },
    {
      "cell_type": "code",
      "source": [
        "class Person:\n",
        "    def __init__(self, name):\n",
        "        self.name = name\n",
        "        print(f\"Person created with name: {self.name}\")\n",
        "\n",
        "class Teacher(Person):\n",
        "    def __init__(self, name, subject):\n",
        "        super().__init__(name)  # Call the constructor of the base class\n",
        "        self.subject = subject\n",
        "        print(f\"Teacher created who teaches: {self.subject}\")\n",
        "\n",
        "# Example usage\n",
        "t1 = Teacher(\"James Johnson\", \"Mathematics\")\n"
      ],
      "metadata": {
        "colab": {
          "base_uri": "https://localhost:8080/"
        },
        "id": "mOZOx32-ecSm",
        "outputId": "9f3d382e-621e-4f9b-9552-d176b6dba19f"
      },
      "execution_count": 14,
      "outputs": [
        {
          "output_type": "stream",
          "name": "stdout",
          "text": [
            "Person created with name: James Johnson\n",
            "Teacher created who teaches: Mathematics\n"
          ]
        }
      ]
    },
    {
      "cell_type": "code",
      "source": [
        "from abc import ABC, abstractmethod\n",
        "\n",
        "# Abstract base class\n",
        "class Shape(ABC):\n",
        "    @abstractmethod\n",
        "    def area(self):\n",
        "        pass\n",
        "\n",
        "# Concrete subclass\n",
        "class Rectangle(Shape):\n",
        "    def __init__(self, width, height):\n",
        "        self.width = width\n",
        "        self.height = height\n",
        "\n",
        "    def area(self):\n",
        "        return self.width * self.height\n",
        "\n",
        "# Example usage\n",
        "rect = Rectangle(5, 10)\n",
        "print(f\"Area of rectangle: {rect.area()}\")\n"
      ],
      "metadata": {
        "colab": {
          "base_uri": "https://localhost:8080/"
        },
        "id": "0hTmgTDDe2u6",
        "outputId": "e77944e6-839a-4df0-fddb-1a64c01804f7"
      },
      "execution_count": 15,
      "outputs": [
        {
          "output_type": "stream",
          "name": "stdout",
          "text": [
            "Area of rectangle: 50\n"
          ]
        }
      ]
    },
    {
      "cell_type": "code",
      "source": [
        "class Dog:\n",
        "    def __init__(self, name, breed):\n",
        "        self.name = name\n",
        "        self.breed = breed\n",
        "\n",
        "    def bark(self):\n",
        "        print(f\"{self.name} says: Woof! Woof!\")\n",
        "\n",
        "# Example usage\n",
        "my_dog = Dog(\"Buddy\", \"Golden Retriever\")\n",
        "print(f\"Dog Name: {my_dog.name}, Breed: {my_dog.breed}\")\n",
        "my_dog.bark()\n"
      ],
      "metadata": {
        "colab": {
          "base_uri": "https://localhost:8080/"
        },
        "id": "4rXcBEuxe6B7",
        "outputId": "6d80ec87-0c5e-4455-adfc-9d77a315ca58"
      },
      "execution_count": 16,
      "outputs": [
        {
          "output_type": "stream",
          "name": "stdout",
          "text": [
            "Dog Name: Buddy, Breed: Golden Retriever\n",
            "Buddy says: Woof! Woof!\n"
          ]
        }
      ]
    },
    {
      "cell_type": "code",
      "source": [
        "class Book:\n",
        "    total_books = 0  # Class variable to keep track of books\n",
        "\n",
        "    def __init__(self, title):\n",
        "        self.title = title\n",
        "        Book.increment_book_count()\n",
        "\n",
        "    @classmethod\n",
        "    def increment_book_count(cls):\n",
        "        cls.total_books += 1\n",
        "\n",
        "    @classmethod\n",
        "    def display_total_books(cls):\n",
        "        print(f\"Total books: {cls.total_books}\")\n",
        "\n",
        "# Example usage\n",
        "book1 = Book(\"1984\")\n",
        "book2 = Book(\"Brave New World\")\n",
        "Book.display_total_books()\n"
      ],
      "metadata": {
        "colab": {
          "base_uri": "https://localhost:8080/"
        },
        "id": "IyZ-Pe_tf61s",
        "outputId": "8382844c-cb24-41fd-fb6d-b267ca25eb89"
      },
      "execution_count": 17,
      "outputs": [
        {
          "output_type": "stream",
          "name": "stdout",
          "text": [
            "Total books: 2\n"
          ]
        }
      ]
    },
    {
      "cell_type": "code",
      "source": [
        "class TemperatureConverter:\n",
        "    @staticmethod\n",
        "    def celsius_to_fahrenheit(c):\n",
        "        return (c * 9/5) + 32\n",
        "\n",
        "# Example usage\n",
        "temp_c = 25\n",
        "temp_f = TemperatureConverter.celsius_to_fahrenheit(temp_c)\n",
        "print(f\"{temp_c}°C is {temp_f}°F\")\n"
      ],
      "metadata": {
        "colab": {
          "base_uri": "https://localhost:8080/"
        },
        "id": "v6Wh8MUSgVBn",
        "outputId": "2e5aa5ed-7c90-4e8b-9ece-cf5498041310"
      },
      "execution_count": 20,
      "outputs": [
        {
          "output_type": "stream",
          "name": "stdout",
          "text": [
            "25°C is 77.0°F\n"
          ]
        }
      ]
    },
    {
      "cell_type": "code",
      "source": [
        "class Engine:\n",
        "    def __init__(self, horsepower):\n",
        "        self.horsepower = horsepower\n",
        "\n",
        "    def start_engine(self):\n",
        "        print(f\"Engine with {self.horsepower} HP is starting...\")\n",
        "\n",
        "class Car:\n",
        "    def __init__(self, brand, engine):\n",
        "        self.brand = brand\n",
        "        self.engine = engine  # Composition: Car \"has an\" Engine\n",
        "\n",
        "    def start_car(self):\n",
        "        print(f\"{self.brand} car is starting.\")\n",
        "        self.engine.start_engine()  # Access Engine method via Car\n",
        "\n",
        "# Example usage:\n",
        "engine = Engine(250)\n",
        "car = Car(\"Honda\", engine)\n",
        "\n",
        "car.start_car()\n"
      ],
      "metadata": {
        "colab": {
          "base_uri": "https://localhost:8080/"
        },
        "id": "8k-SKQ8xgekJ",
        "outputId": "c42b8d56-5ce9-475b-e42d-1d7ed64b7efc"
      },
      "execution_count": 21,
      "outputs": [
        {
          "output_type": "stream",
          "name": "stdout",
          "text": [
            "Honda car is starting.\n",
            "Engine with 250 HP is starting...\n"
          ]
        }
      ]
    },
    {
      "cell_type": "code",
      "source": [
        "class Employee:\n",
        "    def __init__(self, name, position):\n",
        "        self.name = name\n",
        "        self.position = position\n",
        "\n",
        "    def display_employee(self):\n",
        "        print(f\"Employee Name: {self.name}, Position: {self.position}\")\n",
        "\n",
        "class Department:\n",
        "    def __init__(self, dept_name):\n",
        "        self.dept_name = dept_name\n",
        "        self.employee = None  # Will hold reference to Employee\n",
        "\n",
        "    def assign_employee(self, employee):\n",
        "        self.employee = employee\n",
        "\n",
        "    def display_department(self):\n",
        "        print(f\"Department: {self.dept_name}\")\n",
        "        if self.employee:\n",
        "            self.employee.display_employee()\n",
        "        else:\n",
        "            print(\"No employee assigned.\")\n",
        "\n",
        "# Create Employee independently\n",
        "emp = Employee(\"Jane Smith\", \"Software Engineer\")\n",
        "\n",
        "# Create Department and assign the existing Employee object\n",
        "dept = Department(\"IT\")\n",
        "dept.assign_employee(emp)\n",
        "\n",
        "# Display info\n",
        "dept.display_department()\n",
        "\n",
        "# Employee can still exist independently\n",
        "emp.display_employee()\n"
      ],
      "metadata": {
        "colab": {
          "base_uri": "https://localhost:8080/"
        },
        "id": "BrMfSWL4gnkl",
        "outputId": "d752f19d-7daf-49db-a4ab-4aacb51f45fb"
      },
      "execution_count": 22,
      "outputs": [
        {
          "output_type": "stream",
          "name": "stdout",
          "text": [
            "Department: IT\n",
            "Employee Name: Jane Smith, Position: Software Engineer\n",
            "Employee Name: Jane Smith, Position: Software Engineer\n"
          ]
        }
      ]
    },
    {
      "cell_type": "code",
      "source": [
        "class A:\n",
        "    def show(self):\n",
        "        print(\"Show method in class A\")\n",
        "\n",
        "class B(A):\n",
        "    def show(self):\n",
        "        print(\"Show method in class B\")\n",
        "\n",
        "class C(A):\n",
        "    def show(self):\n",
        "        print(\"Show method in class C\")\n",
        "\n",
        "class D(B, C):\n",
        "    pass\n",
        "\n",
        "# Create an object of D\n",
        "d = D()\n",
        "\n",
        "# Call show() method\n",
        "d.show()\n",
        "\n",
        "# Print the Method Resolution Order\n",
        "print(\"Method Resolution Order:\", [cls.__name__ for cls in D.__mro__])\n"
      ],
      "metadata": {
        "colab": {
          "base_uri": "https://localhost:8080/"
        },
        "id": "nz7sMkAyhFLr",
        "outputId": "674e09cc-c1d0-4e45-9c80-0c8eddd05e22"
      },
      "execution_count": 23,
      "outputs": [
        {
          "output_type": "stream",
          "name": "stdout",
          "text": [
            "Show method in class B\n",
            "Method Resolution Order: ['D', 'B', 'C', 'A', 'object']\n"
          ]
        }
      ]
    },
    {
      "cell_type": "code",
      "source": [
        "def log_function_call(func):\n",
        "    def wrapper(*args, **kwargs):\n",
        "        print(\"Function is being called\")\n",
        "        return func(*args, **kwargs)\n",
        "    return wrapper\n",
        "\n",
        "@log_function_call\n",
        "def say_hello():\n",
        "    print(\"Hello!\")\n",
        "\n",
        "# Example usage\n",
        "say_hello()\n"
      ],
      "metadata": {
        "colab": {
          "base_uri": "https://localhost:8080/"
        },
        "id": "eD9W64sphNT-",
        "outputId": "5a88c66d-7689-4360-b57f-077081d3b1ab"
      },
      "execution_count": 24,
      "outputs": [
        {
          "output_type": "stream",
          "name": "stdout",
          "text": [
            "Function is being called\n",
            "Hello!\n"
          ]
        }
      ]
    },
    {
      "cell_type": "code",
      "source": [
        "def add_greeting(cls):\n",
        "    def greet(self):\n",
        "        return \"Hello from Decorator!\"\n",
        "    cls.greet = greet  # Add greet method to the class\n",
        "    return cls\n",
        "\n",
        "@add_greeting\n",
        "class Person:\n",
        "    def __init__(self, name):\n",
        "        self.name = name\n",
        "\n",
        "# Example usage\n",
        "p = Person(\"Asim\")\n",
        "print(p.greet())\n"
      ],
      "metadata": {
        "colab": {
          "base_uri": "https://localhost:8080/"
        },
        "id": "G4vELJe6hP_r",
        "outputId": "d3c369ab-5837-476f-a871-15ce27beb1cf"
      },
      "execution_count": 26,
      "outputs": [
        {
          "output_type": "stream",
          "name": "stdout",
          "text": [
            "Hello from Decorator!\n"
          ]
        }
      ]
    },
    {
      "cell_type": "code",
      "source": [
        "class Product:\n",
        "    def __init__(self, price):\n",
        "        self._price = price  # Private attribute\n",
        "\n",
        "    @property\n",
        "    def price(self):\n",
        "        \"\"\"Getter for price\"\"\"\n",
        "        return self._price\n",
        "\n",
        "    @price.setter\n",
        "    def price(self, value):\n",
        "        \"\"\"Setter for price with simple validation\"\"\"\n",
        "        if value < 0:\n",
        "            raise ValueError(\"Price cannot be negative.\")\n",
        "        self._price = value\n",
        "\n",
        "    @price.deleter\n",
        "    def price(self):\n",
        "        \"\"\"Deleter for price\"\"\"\n",
        "        print(\"Deleting price...\")\n",
        "        del self._price\n",
        "\n",
        "# Example usage:\n",
        "p = Product(100)\n",
        "print(p.price)   # Get price\n",
        "\n",
        "p.price = 150    # Set price\n",
        "print(p.price)\n",
        "\n",
        "del p.price      # Delete price\n",
        "# print(p.price)  # This would raise AttributeError now because _price is deleted\n"
      ],
      "metadata": {
        "colab": {
          "base_uri": "https://localhost:8080/"
        },
        "id": "WN8tSRyahls-",
        "outputId": "881de1fe-8afd-4271-acf2-cc54082c9b11"
      },
      "execution_count": 27,
      "outputs": [
        {
          "output_type": "stream",
          "name": "stdout",
          "text": [
            "100\n",
            "150\n",
            "Deleting price...\n"
          ]
        }
      ]
    },
    {
      "cell_type": "code",
      "source": [
        "class Multiplier:\n",
        "    def __init__(self, factor):\n",
        "        self.factor = factor\n",
        "\n",
        "    def __call__(self, value):\n",
        "        return value * self.factor\n",
        "\n",
        "# Create an instance\n",
        "mult_by_3 = Multiplier(3)\n",
        "\n",
        "# Test if the object is callable\n",
        "print(callable(mult_by_3))  # Output: True\n",
        "\n",
        "# Call the object like a function\n",
        "result = mult_by_3(10)\n",
        "print(result)  # Output: 30\n"
      ],
      "metadata": {
        "colab": {
          "base_uri": "https://localhost:8080/"
        },
        "id": "OivEQ4ichtJc",
        "outputId": "864ffa1a-5e36-4016-d94e-e4af28d44340"
      },
      "execution_count": 28,
      "outputs": [
        {
          "output_type": "stream",
          "name": "stdout",
          "text": [
            "True\n",
            "30\n"
          ]
        }
      ]
    },
    {
      "cell_type": "code",
      "source": [
        "# Define custom exception\n",
        "class InvalidAgeError(Exception):\n",
        "    pass\n",
        "\n",
        "def check_age(age):\n",
        "    if age < 18:\n",
        "        raise InvalidAgeError(\"Age must be at least 18.\")\n",
        "    else:\n",
        "        print(\"Age is valid.\")\n",
        "\n",
        "# Example usage with exception handling\n",
        "try:\n",
        "    check_age(16)\n",
        "except InvalidAgeError as e:\n",
        "    print(f\"Error: {e}\")\n"
      ],
      "metadata": {
        "colab": {
          "base_uri": "https://localhost:8080/"
        },
        "id": "J8GeDHBhiKyq",
        "outputId": "b5e7639f-20e9-4641-a7e4-07d760efd45c"
      },
      "execution_count": 29,
      "outputs": [
        {
          "output_type": "stream",
          "name": "stdout",
          "text": [
            "Error: Age must be at least 18.\n"
          ]
        }
      ]
    },
    {
      "cell_type": "code",
      "source": [
        "class Countdown:\n",
        "    def __init__(self, start):\n",
        "        self.current = start\n",
        "\n",
        "    def __iter__(self):\n",
        "        return self\n",
        "\n",
        "    def __next__(self):\n",
        "        if self.current < 0:\n",
        "            raise StopIteration\n",
        "        value = self.current\n",
        "        self.current -= 1\n",
        "        return value\n",
        "\n",
        "# Example usage\n",
        "for number in Countdown(5):\n",
        "    print(number)\n"
      ],
      "metadata": {
        "colab": {
          "base_uri": "https://localhost:8080/"
        },
        "id": "oBDpGXPViVcr",
        "outputId": "37f0ace0-629b-4121-f0a0-84b8a606198c"
      },
      "execution_count": 30,
      "outputs": [
        {
          "output_type": "stream",
          "name": "stdout",
          "text": [
            "5\n",
            "4\n",
            "3\n",
            "2\n",
            "1\n",
            "0\n"
          ]
        }
      ]
    }
  ]
}